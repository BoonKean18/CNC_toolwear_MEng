{
 "cells": [
  {
   "cell_type": "markdown",
   "id": "35a42a2a-6b94-486e-a0a8-4398288e5583",
   "metadata": {},
   "source": [
    "## Import the libraries"
   ]
  },
  {
   "cell_type": "code",
   "execution_count": 1,
   "id": "a9bdecde-8406-413c-b358-04500c3b6ccf",
   "metadata": {},
   "outputs": [
    {
     "name": "stdout",
     "output_type": "stream",
     "text": [
      "WARNING:tensorflow:From C:\\Users\\Teo Boon Kean\\AppData\\Local\\Programs\\Python\\Python311\\Lib\\site-packages\\keras\\src\\losses.py:2976: The name tf.losses.sparse_softmax_cross_entropy is deprecated. Please use tf.compat.v1.losses.sparse_softmax_cross_entropy instead.\n",
      "\n"
     ]
    }
   ],
   "source": [
    "#importing the libraries\n",
    "import tensorflow as tf  \n",
    "from tensorflow import keras\n",
    "import numpy as np\n",
    "import pandas as pd"
   ]
  },
  {
   "cell_type": "markdown",
   "id": "81d1a95e-758e-4fff-8c0c-246bdf60c217",
   "metadata": {},
   "source": [
    "## Load the data and data pre-processing"
   ]
  },
  {
   "cell_type": "code",
   "execution_count": 2,
   "id": "a9e1186e-987f-45ac-9f20-e3b830e73ec4",
   "metadata": {},
   "outputs": [],
   "source": [
    "#load the datasets\n",
    "baseline_df = pd.read_excel('extracted_features_baseline.xlsx')\n",
    "toolwear_df = pd.read_excel('extracted_features_toolwear.xlsx')"
   ]
  },
  {
   "cell_type": "code",
   "execution_count": 3,
   "id": "faf125a2-8903-4443-b7f9-08e72f3ff4da",
   "metadata": {},
   "outputs": [],
   "source": [
    "#concantanate the datasets\n",
    "combined_df = pd.concat([baseline_df, toolwear_df], axis=0)"
   ]
  },
  {
   "cell_type": "code",
   "execution_count": 4,
   "id": "849cfa0c-1054-47a1-af76-633bb08bcae0",
   "metadata": {},
   "outputs": [],
   "source": [
    "features = combined_df.values"
   ]
  },
  {
   "cell_type": "code",
   "execution_count": 5,
   "id": "82d53e72-4ff4-4f06-91a8-1cb81faceb21",
   "metadata": {},
   "outputs": [
    {
     "name": "stdout",
     "output_type": "stream",
     "text": [
      "66\n"
     ]
    }
   ],
   "source": [
    "print(features.shape[1])"
   ]
  },
  {
   "cell_type": "code",
   "execution_count": 8,
   "id": "9afaaf52-9d2d-437d-a3bd-beb6d03944d7",
   "metadata": {},
   "outputs": [],
   "source": [
    "#train test split\n",
    "from sklearn.model_selection import train_test_split\n",
    "X_train, X_test = train_test_split(features, test_size=0.2, random_state=50)"
   ]
  },
  {
   "cell_type": "code",
   "execution_count": 9,
   "id": "cfdf1cb9-bab6-49f6-a649-f3ba6214e00d",
   "metadata": {},
   "outputs": [],
   "source": [
    "#data scalling\n",
    "from sklearn.preprocessing import StandardScaler\n",
    "\n",
    "sc = StandardScaler()\n",
    "X_train = sc.fit_transform(X_train)\n",
    "X_test = sc.transform(X_test)"
   ]
  },
  {
   "cell_type": "markdown",
   "id": "8966af44-cac3-41bb-9627-aa51fd8c48ab",
   "metadata": {},
   "source": [
    "## Construct and train the Autoencoder"
   ]
  },
  {
   "cell_type": "code",
   "execution_count": 10,
   "id": "4a7ee9d2-fa08-4011-a86b-29d6a3938e97",
   "metadata": {},
   "outputs": [],
   "source": [
    "#specify the number of condensed features. This will be the number of neurons in the hidden layer\n",
    "condensed_f = 10"
   ]
  },
  {
   "cell_type": "code",
   "execution_count": 11,
   "id": "1b4f459d-1e3a-47ce-a7c2-08e818f61ffc",
   "metadata": {},
   "outputs": [
    {
     "name": "stdout",
     "output_type": "stream",
     "text": [
      "WARNING:tensorflow:From C:\\Users\\Teo Boon Kean\\AppData\\Local\\Programs\\Python\\Python311\\Lib\\site-packages\\keras\\src\\backend.py:1398: The name tf.executing_eagerly_outside_functions is deprecated. Please use tf.compat.v1.executing_eagerly_outside_functions instead.\n",
      "\n"
     ]
    }
   ],
   "source": [
    "#constructing the model\n",
    "\n",
    "#input layer which number of neurons equals the number of original features\n",
    "l_in = keras.Input(features.shape[1])\n",
    "\n",
    "#hidden layer which condenses the feature into the specified number of condensed features\n",
    "l_condensed = keras.layers.Dense(condensed_f)(l_in)\n",
    "\n",
    "#output layer which is the same as the input\n",
    "l_out = keras.layers.Dense(features.shape[1])(l_condensed)"
   ]
  },
  {
   "cell_type": "code",
   "execution_count": 12,
   "id": "431068b4-4362-452a-a24a-dd59ab591b04",
   "metadata": {},
   "outputs": [],
   "source": [
    "#defining the autoencode\n",
    "autoencoder = keras.Model(l_in, l_out)"
   ]
  },
  {
   "cell_type": "code",
   "execution_count": 13,
   "id": "294b4b2b-834d-4bb7-97aa-a27ba2d5ccae",
   "metadata": {},
   "outputs": [
    {
     "name": "stdout",
     "output_type": "stream",
     "text": [
      "Model: \"model\"\n",
      "_________________________________________________________________\n",
      " Layer (type)                Output Shape              Param #   \n",
      "=================================================================\n",
      " input_1 (InputLayer)        [(None, 66)]              0         \n",
      "                                                                 \n",
      " dense (Dense)               (None, 10)                670       \n",
      "                                                                 \n",
      " dense_1 (Dense)             (None, 66)                726       \n",
      "                                                                 \n",
      "=================================================================\n",
      "Total params: 1396 (5.45 KB)\n",
      "Trainable params: 1396 (5.45 KB)\n",
      "Non-trainable params: 0 (0.00 Byte)\n",
      "_________________________________________________________________\n"
     ]
    }
   ],
   "source": [
    "autoencoder.summary()"
   ]
  },
  {
   "cell_type": "code",
   "execution_count": 14,
   "id": "155cd6ce-485a-466e-a5fc-12c051851e73",
   "metadata": {
    "scrolled": true
   },
   "outputs": [
    {
     "name": "stdout",
     "output_type": "stream",
     "text": [
      "WARNING:tensorflow:From C:\\Users\\Teo Boon Kean\\AppData\\Local\\Programs\\Python\\Python311\\Lib\\site-packages\\keras\\src\\optimizers\\__init__.py:309: The name tf.train.Optimizer is deprecated. Please use tf.compat.v1.train.Optimizer instead.\n",
      "\n",
      "Epoch 1/50\n",
      "WARNING:tensorflow:From C:\\Users\\Teo Boon Kean\\AppData\\Local\\Programs\\Python\\Python311\\Lib\\site-packages\\keras\\src\\utils\\tf_utils.py:492: The name tf.ragged.RaggedTensorValue is deprecated. Please use tf.compat.v1.ragged.RaggedTensorValue instead.\n",
      "\n",
      "76/76 [==============================] - 1s 5ms/step - loss: 1.0560 - val_loss: 0.7014\n",
      "Epoch 2/50\n",
      "76/76 [==============================] - 0s 2ms/step - loss: 0.6715 - val_loss: 0.4666\n",
      "Epoch 3/50\n",
      "76/76 [==============================] - 0s 2ms/step - loss: 0.4783 - val_loss: 0.3769\n",
      "Epoch 4/50\n",
      "76/76 [==============================] - 0s 2ms/step - loss: 0.3933 - val_loss: 0.3327\n",
      "Epoch 5/50\n",
      "76/76 [==============================] - 0s 2ms/step - loss: 0.3482 - val_loss: 0.3010\n",
      "Epoch 6/50\n",
      "76/76 [==============================] - 0s 2ms/step - loss: 0.3174 - val_loss: 0.2754\n",
      "Epoch 7/50\n",
      "76/76 [==============================] - 0s 2ms/step - loss: 0.2925 - val_loss: 0.2522\n",
      "Epoch 8/50\n",
      "76/76 [==============================] - 0s 3ms/step - loss: 0.2703 - val_loss: 0.2314\n",
      "Epoch 9/50\n",
      "76/76 [==============================] - 0s 2ms/step - loss: 0.2501 - val_loss: 0.2126\n",
      "Epoch 10/50\n",
      "76/76 [==============================] - 0s 2ms/step - loss: 0.2324 - val_loss: 0.1981\n",
      "Epoch 11/50\n",
      "76/76 [==============================] - 0s 2ms/step - loss: 0.2176 - val_loss: 0.1864\n",
      "Epoch 12/50\n",
      "76/76 [==============================] - 0s 2ms/step - loss: 0.2057 - val_loss: 0.1773\n",
      "Epoch 13/50\n",
      "76/76 [==============================] - 0s 2ms/step - loss: 0.1962 - val_loss: 0.1705\n",
      "Epoch 14/50\n",
      "76/76 [==============================] - 0s 2ms/step - loss: 0.1880 - val_loss: 0.1645\n",
      "Epoch 15/50\n",
      "76/76 [==============================] - 0s 2ms/step - loss: 0.1809 - val_loss: 0.1596\n",
      "Epoch 16/50\n",
      "76/76 [==============================] - 0s 2ms/step - loss: 0.1751 - val_loss: 0.1550\n",
      "Epoch 17/50\n",
      "76/76 [==============================] - 0s 2ms/step - loss: 0.1700 - val_loss: 0.1513\n",
      "Epoch 18/50\n",
      "76/76 [==============================] - 0s 2ms/step - loss: 0.1656 - val_loss: 0.1490\n",
      "Epoch 19/50\n",
      "76/76 [==============================] - 0s 2ms/step - loss: 0.1617 - val_loss: 0.1461\n",
      "Epoch 20/50\n",
      "76/76 [==============================] - 0s 2ms/step - loss: 0.1581 - val_loss: 0.1440\n",
      "Epoch 21/50\n",
      "76/76 [==============================] - 0s 2ms/step - loss: 0.1558 - val_loss: 0.1427\n",
      "Epoch 22/50\n",
      "76/76 [==============================] - 0s 2ms/step - loss: 0.1532 - val_loss: 0.1414\n",
      "Epoch 23/50\n",
      "76/76 [==============================] - 0s 2ms/step - loss: 0.1511 - val_loss: 0.1406\n",
      "Epoch 24/50\n",
      "76/76 [==============================] - 0s 2ms/step - loss: 0.1498 - val_loss: 0.1403\n",
      "Epoch 25/50\n",
      "76/76 [==============================] - 0s 3ms/step - loss: 0.1483 - val_loss: 0.1397\n",
      "Epoch 26/50\n",
      "76/76 [==============================] - 0s 2ms/step - loss: 0.1475 - val_loss: 0.1387\n",
      "Epoch 27/50\n",
      "76/76 [==============================] - 0s 2ms/step - loss: 0.1469 - val_loss: 0.1385\n",
      "Epoch 28/50\n",
      "76/76 [==============================] - 0s 2ms/step - loss: 0.1462 - val_loss: 0.1389\n",
      "Epoch 29/50\n",
      "76/76 [==============================] - 0s 2ms/step - loss: 0.1455 - val_loss: 0.1381\n",
      "Epoch 30/50\n",
      "76/76 [==============================] - 0s 2ms/step - loss: 0.1452 - val_loss: 0.1385\n",
      "Epoch 31/50\n",
      "76/76 [==============================] - 0s 2ms/step - loss: 0.1448 - val_loss: 0.1379\n",
      "Epoch 32/50\n",
      "76/76 [==============================] - 0s 2ms/step - loss: 0.1444 - val_loss: 0.1377\n",
      "Epoch 33/50\n",
      "76/76 [==============================] - 0s 2ms/step - loss: 0.1442 - val_loss: 0.1374\n",
      "Epoch 34/50\n",
      "76/76 [==============================] - 0s 2ms/step - loss: 0.1441 - val_loss: 0.1377\n",
      "Epoch 35/50\n",
      "76/76 [==============================] - 0s 2ms/step - loss: 0.1437 - val_loss: 0.1371\n",
      "Epoch 36/50\n",
      "76/76 [==============================] - 0s 2ms/step - loss: 0.1437 - val_loss: 0.1371\n",
      "Epoch 37/50\n",
      "76/76 [==============================] - 0s 2ms/step - loss: 0.1435 - val_loss: 0.1374\n",
      "Epoch 38/50\n",
      "76/76 [==============================] - 0s 2ms/step - loss: 0.1433 - val_loss: 0.1372\n",
      "Epoch 39/50\n",
      "76/76 [==============================] - 0s 2ms/step - loss: 0.1433 - val_loss: 0.1376\n",
      "Epoch 40/50\n",
      "76/76 [==============================] - 0s 2ms/step - loss: 0.1432 - val_loss: 0.1369\n",
      "Epoch 41/50\n",
      "76/76 [==============================] - 0s 2ms/step - loss: 0.1433 - val_loss: 0.1365\n",
      "Epoch 42/50\n",
      "76/76 [==============================] - 0s 2ms/step - loss: 0.1429 - val_loss: 0.1361\n",
      "Epoch 43/50\n",
      "76/76 [==============================] - 0s 2ms/step - loss: 0.1429 - val_loss: 0.1362\n",
      "Epoch 44/50\n",
      "76/76 [==============================] - 0s 2ms/step - loss: 0.1431 - val_loss: 0.1366\n",
      "Epoch 45/50\n",
      "76/76 [==============================] - 0s 2ms/step - loss: 0.1427 - val_loss: 0.1363\n",
      "Epoch 46/50\n",
      "76/76 [==============================] - 0s 2ms/step - loss: 0.1428 - val_loss: 0.1367\n",
      "Epoch 47/50\n",
      "76/76 [==============================] - 0s 2ms/step - loss: 0.1427 - val_loss: 0.1364\n",
      "Epoch 48/50\n",
      "76/76 [==============================] - 0s 2ms/step - loss: 0.1428 - val_loss: 0.1370\n",
      "Epoch 49/50\n",
      "76/76 [==============================] - 0s 2ms/step - loss: 0.1426 - val_loss: 0.1361\n",
      "Epoch 50/50\n",
      "76/76 [==============================] - 0s 2ms/step - loss: 0.1427 - val_loss: 0.1362\n"
     ]
    },
    {
     "data": {
      "text/plain": [
       "<keras.src.callbacks.History at 0x1fe3afee110>"
      ]
     },
     "execution_count": 14,
     "metadata": {},
     "output_type": "execute_result"
    }
   ],
   "source": [
    "#compile the model\n",
    "autoencoder.compile(optimizer='adam', loss='mse')\n",
    "#train the model\n",
    "autoencoder.fit(X_train, X_train, epochs = 50, batch_size = 8, validation_split = 0.1)"
   ]
  },
  {
   "cell_type": "markdown",
   "id": "3cf05f9a-b03d-41a0-8cab-b3a370cb22ba",
   "metadata": {},
   "source": [
    "## Evaluate Autoencoder with training dataset"
   ]
  },
  {
   "cell_type": "code",
   "execution_count": 15,
   "id": "0e6a13fd-a967-4cdd-b622-62e073ed75da",
   "metadata": {},
   "outputs": [
    {
     "name": "stdout",
     "output_type": "stream",
     "text": [
      "6/6 [==============================] - 0s 2ms/step\n",
      "0.2751215868966251\n"
     ]
    }
   ],
   "source": [
    "from sklearn.metrics import mean_absolute_error\n",
    "\n",
    "#Predict with the model and record the MSE between the output and input features\n",
    "pred = autoencoder.predict(X_test)\n",
    "print(mean_absolute_error(X_test,pred))"
   ]
  }
 ],
 "metadata": {
  "kernelspec": {
   "display_name": "Python 3 (ipykernel)",
   "language": "python",
   "name": "python3"
  },
  "language_info": {
   "codemirror_mode": {
    "name": "ipython",
    "version": 3
   },
   "file_extension": ".py",
   "mimetype": "text/x-python",
   "name": "python",
   "nbconvert_exporter": "python",
   "pygments_lexer": "ipython3",
   "version": "3.11.0"
  }
 },
 "nbformat": 4,
 "nbformat_minor": 5
}
