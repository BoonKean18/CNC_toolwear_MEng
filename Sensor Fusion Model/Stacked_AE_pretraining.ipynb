{
 "cells": [
  {
   "cell_type": "markdown",
   "id": "1fc1c37b-d234-4f15-872c-d7ee1898890c",
   "metadata": {},
   "source": [
    "## Import the libraries"
   ]
  },
  {
   "cell_type": "code",
   "execution_count": 1,
   "id": "a9bdecde-8406-413c-b358-04500c3b6ccf",
   "metadata": {},
   "outputs": [
    {
     "name": "stdout",
     "output_type": "stream",
     "text": [
      "WARNING:tensorflow:From C:\\Users\\Teo Boon Kean\\AppData\\Local\\Programs\\Python\\Python311\\Lib\\site-packages\\keras\\src\\losses.py:2976: The name tf.losses.sparse_softmax_cross_entropy is deprecated. Please use tf.compat.v1.losses.sparse_softmax_cross_entropy instead.\n",
      "\n"
     ]
    }
   ],
   "source": [
    "#importing the libraries\n",
    "import tensorflow as tf  \n",
    "from tensorflow import keras\n",
    "import numpy as np\n",
    "import pandas as pd"
   ]
  },
  {
   "cell_type": "markdown",
   "id": "16552914-00d8-4352-a3c8-f8ba911623d9",
   "metadata": {},
   "source": [
    "## Load the data and data pre-processing"
   ]
  },
  {
   "cell_type": "code",
   "execution_count": 2,
   "id": "a9e1186e-987f-45ac-9f20-e3b830e73ec4",
   "metadata": {},
   "outputs": [],
   "source": [
    "#load the datasets\n",
    "baseline_df = pd.read_excel('extracted_features_baseline.xlsx')\n",
    "toolwear_df = pd.read_excel('extracted_features_toolwear.xlsx')"
   ]
  },
  {
   "cell_type": "code",
   "execution_count": 3,
   "id": "6250f7fb-23b0-4f79-a30c-1c12725784a0",
   "metadata": {},
   "outputs": [],
   "source": [
    "#labelling the datasets. 0 for baseline, 1 for toolwear. This will be the variable the model tries to predict\n",
    "baseline_df[\"state\"] = 0\n",
    "toolwear_df[\"state\"] = 1"
   ]
  },
  {
   "cell_type": "code",
   "execution_count": 4,
   "id": "faf125a2-8903-4443-b7f9-08e72f3ff4da",
   "metadata": {},
   "outputs": [
    {
     "name": "stdout",
     "output_type": "stream",
     "text": [
      "(840, 67)\n"
     ]
    }
   ],
   "source": [
    "#concantanate the datasets\n",
    "combined_df = pd.concat([baseline_df, toolwear_df], axis=0)\n",
    "print(combined_df.shape)"
   ]
  },
  {
   "cell_type": "code",
   "execution_count": 5,
   "id": "849cfa0c-1054-47a1-af76-633bb08bcae0",
   "metadata": {},
   "outputs": [
    {
     "name": "stdout",
     "output_type": "stream",
     "text": [
      "(840,)\n"
     ]
    }
   ],
   "source": [
    "#getting the y label \n",
    "state = combined_df[\"state\"].values\n",
    "print(state.shape)"
   ]
  },
  {
   "cell_type": "code",
   "execution_count": 6,
   "id": "97c4c4b0-997b-4562-b642-d1c78e05b649",
   "metadata": {},
   "outputs": [
    {
     "name": "stdout",
     "output_type": "stream",
     "text": [
      "(840, 66)\n"
     ]
    }
   ],
   "source": [
    "#getting the features to train the model\n",
    "features = combined_df.drop('state', axis=1).values\n",
    "print(features.shape)"
   ]
  },
  {
   "cell_type": "code",
   "execution_count": 7,
   "id": "9afaaf52-9d2d-437d-a3bd-beb6d03944d7",
   "metadata": {},
   "outputs": [],
   "source": [
    "#train test split\n",
    "from sklearn.model_selection import train_test_split\n",
    "X_train, X_test, Y_train, Y_test = train_test_split(features, state, test_size=0.2, random_state=50)"
   ]
  },
  {
   "cell_type": "code",
   "execution_count": 8,
   "id": "cfdf1cb9-bab6-49f6-a649-f3ba6214e00d",
   "metadata": {},
   "outputs": [],
   "source": [
    "#data scalling\n",
    "from sklearn.preprocessing import StandardScaler\n",
    "\n",
    "sc = StandardScaler()\n",
    "X_train = sc.fit_transform(X_train)\n",
    "X_test = sc.transform(X_test)"
   ]
  },
  {
   "cell_type": "markdown",
   "id": "0007a25b-87e5-4833-8a28-357104e978ac",
   "metadata": {},
   "source": [
    "## Specify the architecture of the stacked autoencoder"
   ]
  },
  {
   "cell_type": "code",
   "execution_count": 9,
   "id": "4a7ee9d2-fa08-4011-a86b-29d6a3938e97",
   "metadata": {},
   "outputs": [],
   "source": [
    "#specify the number of condensed features for the 3 autoencoders. This will be the number of neurons in the hidden layer\n",
    "condensed_e1 = 50\n",
    "condensed_e2 = 30\n",
    "condensed_e3 = 10"
   ]
  },
  {
   "cell_type": "markdown",
   "id": "c99594de-62ce-4fc4-a40c-46f654fc9a38",
   "metadata": {},
   "source": [
    "## Construction and training of the first-Level autoencoder"
   ]
  },
  {
   "cell_type": "code",
   "execution_count": 10,
   "id": "93c228a1-8d0e-4da3-9bad-ce9d7b9fb4a9",
   "metadata": {},
   "outputs": [
    {
     "name": "stdout",
     "output_type": "stream",
     "text": [
      "WARNING:tensorflow:From C:\\Users\\Teo Boon Kean\\AppData\\Local\\Programs\\Python\\Python311\\Lib\\site-packages\\keras\\src\\backend.py:1398: The name tf.executing_eagerly_outside_functions is deprecated. Please use tf.compat.v1.executing_eagerly_outside_functions instead.\n",
      "\n",
      "Model: \"model\"\n",
      "_________________________________________________________________\n",
      " Layer (type)                Output Shape              Param #   \n",
      "=================================================================\n",
      " input_1 (InputLayer)        [(None, 66)]              0         \n",
      "                                                                 \n",
      " dense (Dense)               (None, 50)                3350      \n",
      "                                                                 \n",
      " dense_1 (Dense)             (None, 66)                3366      \n",
      "                                                                 \n",
      "=================================================================\n",
      "Total params: 6716 (26.23 KB)\n",
      "Trainable params: 6716 (26.23 KB)\n",
      "Non-trainable params: 0 (0.00 Byte)\n",
      "_________________________________________________________________\n"
     ]
    }
   ],
   "source": [
    "#constructing the first Autoencoder\n",
    "\n",
    "#input layer \n",
    "in_ae1 = keras.Input(features.shape[1])\n",
    "#hidden encoded layer\n",
    "h_ae1 = keras.layers.Dense(condensed_e1)(in_ae1)\n",
    "#output layer\n",
    "out_ae1 = keras.layers.Dense(features.shape[1])(h_ae1)\n",
    "\n",
    "ae1 = keras.Model(in_ae1, out_ae1)\n",
    "encoder1 = keras.Model(in_ae1, h_ae1)\n",
    "\n",
    "ae1.summary()"
   ]
  },
  {
   "cell_type": "code",
   "execution_count": 11,
   "id": "0a2f4faf-078e-47af-b309-2e7339f73cea",
   "metadata": {
    "scrolled": true
   },
   "outputs": [
    {
     "name": "stdout",
     "output_type": "stream",
     "text": [
      "WARNING:tensorflow:From C:\\Users\\Teo Boon Kean\\AppData\\Local\\Programs\\Python\\Python311\\Lib\\site-packages\\keras\\src\\optimizers\\__init__.py:309: The name tf.train.Optimizer is deprecated. Please use tf.compat.v1.train.Optimizer instead.\n",
      "\n",
      "Epoch 1/50\n",
      "WARNING:tensorflow:From C:\\Users\\Teo Boon Kean\\AppData\\Local\\Programs\\Python\\Python311\\Lib\\site-packages\\keras\\src\\utils\\tf_utils.py:492: The name tf.ragged.RaggedTensorValue is deprecated. Please use tf.compat.v1.ragged.RaggedTensorValue instead.\n",
      "\n",
      "76/76 [==============================] - 1s 4ms/step - loss: 0.9498 - val_loss: 0.4013\n",
      "Epoch 2/50\n",
      "76/76 [==============================] - 0s 2ms/step - loss: 0.3305 - val_loss: 0.2230\n",
      "Epoch 3/50\n",
      "76/76 [==============================] - 0s 2ms/step - loss: 0.1962 - val_loss: 0.1463\n",
      "Epoch 4/50\n",
      "76/76 [==============================] - 0s 2ms/step - loss: 0.1315 - val_loss: 0.1025\n",
      "Epoch 5/50\n",
      "76/76 [==============================] - 0s 2ms/step - loss: 0.0950 - val_loss: 0.0772\n",
      "Epoch 6/50\n",
      "76/76 [==============================] - 0s 2ms/step - loss: 0.0734 - val_loss: 0.0611\n",
      "Epoch 7/50\n",
      "76/76 [==============================] - 0s 2ms/step - loss: 0.0597 - val_loss: 0.0511\n",
      "Epoch 8/50\n",
      "76/76 [==============================] - 0s 2ms/step - loss: 0.0502 - val_loss: 0.0430\n",
      "Epoch 9/50\n",
      "76/76 [==============================] - 0s 2ms/step - loss: 0.0431 - val_loss: 0.0376\n",
      "Epoch 10/50\n",
      "76/76 [==============================] - 0s 2ms/step - loss: 0.0374 - val_loss: 0.0330\n",
      "Epoch 11/50\n",
      "76/76 [==============================] - 0s 3ms/step - loss: 0.0330 - val_loss: 0.0292\n",
      "Epoch 12/50\n",
      "76/76 [==============================] - 0s 2ms/step - loss: 0.0291 - val_loss: 0.0265\n",
      "Epoch 13/50\n",
      "76/76 [==============================] - 0s 3ms/step - loss: 0.0262 - val_loss: 0.0238\n",
      "Epoch 14/50\n",
      "76/76 [==============================] - 0s 2ms/step - loss: 0.0237 - val_loss: 0.0222\n",
      "Epoch 15/50\n",
      "76/76 [==============================] - 0s 2ms/step - loss: 0.0215 - val_loss: 0.0202\n",
      "Epoch 16/50\n",
      "76/76 [==============================] - 0s 2ms/step - loss: 0.0198 - val_loss: 0.0193\n",
      "Epoch 17/50\n",
      "76/76 [==============================] - 0s 2ms/step - loss: 0.0183 - val_loss: 0.0175\n",
      "Epoch 18/50\n",
      "76/76 [==============================] - 0s 2ms/step - loss: 0.0170 - val_loss: 0.0160\n",
      "Epoch 19/50\n",
      "76/76 [==============================] - 0s 2ms/step - loss: 0.0158 - val_loss: 0.0152\n",
      "Epoch 20/50\n",
      "76/76 [==============================] - 0s 2ms/step - loss: 0.0147 - val_loss: 0.0141\n",
      "Epoch 21/50\n",
      "76/76 [==============================] - 0s 2ms/step - loss: 0.0138 - val_loss: 0.0131\n",
      "Epoch 22/50\n",
      "76/76 [==============================] - 0s 2ms/step - loss: 0.0128 - val_loss: 0.0129\n",
      "Epoch 23/50\n",
      "76/76 [==============================] - 0s 2ms/step - loss: 0.0122 - val_loss: 0.0120\n",
      "Epoch 24/50\n",
      "76/76 [==============================] - 0s 2ms/step - loss: 0.0114 - val_loss: 0.0116\n",
      "Epoch 25/50\n",
      "76/76 [==============================] - 0s 2ms/step - loss: 0.0108 - val_loss: 0.0111\n",
      "Epoch 26/50\n",
      "76/76 [==============================] - 0s 2ms/step - loss: 0.0102 - val_loss: 0.0100\n",
      "Epoch 27/50\n",
      "76/76 [==============================] - 0s 2ms/step - loss: 0.0096 - val_loss: 0.0092\n",
      "Epoch 28/50\n",
      "76/76 [==============================] - 0s 2ms/step - loss: 0.0090 - val_loss: 0.0092\n",
      "Epoch 29/50\n",
      "76/76 [==============================] - 0s 2ms/step - loss: 0.0086 - val_loss: 0.0084\n",
      "Epoch 30/50\n",
      "76/76 [==============================] - 0s 2ms/step - loss: 0.0081 - val_loss: 0.0082\n",
      "Epoch 31/50\n",
      "76/76 [==============================] - 0s 2ms/step - loss: 0.0077 - val_loss: 0.0077\n",
      "Epoch 32/50\n",
      "76/76 [==============================] - 0s 2ms/step - loss: 0.0073 - val_loss: 0.0073\n",
      "Epoch 33/50\n",
      "76/76 [==============================] - 0s 2ms/step - loss: 0.0070 - val_loss: 0.0072\n",
      "Epoch 34/50\n",
      "76/76 [==============================] - 0s 2ms/step - loss: 0.0066 - val_loss: 0.0067\n",
      "Epoch 35/50\n",
      "76/76 [==============================] - 0s 2ms/step - loss: 0.0063 - val_loss: 0.0065\n",
      "Epoch 36/50\n",
      "76/76 [==============================] - 0s 2ms/step - loss: 0.0060 - val_loss: 0.0063\n",
      "Epoch 37/50\n",
      "76/76 [==============================] - 0s 3ms/step - loss: 0.0058 - val_loss: 0.0057\n",
      "Epoch 38/50\n",
      "76/76 [==============================] - 0s 3ms/step - loss: 0.0055 - val_loss: 0.0056\n",
      "Epoch 39/50\n",
      "76/76 [==============================] - 0s 2ms/step - loss: 0.0052 - val_loss: 0.0054\n",
      "Epoch 40/50\n",
      "76/76 [==============================] - 0s 2ms/step - loss: 0.0050 - val_loss: 0.0051\n",
      "Epoch 41/50\n",
      "76/76 [==============================] - 0s 2ms/step - loss: 0.0048 - val_loss: 0.0047\n",
      "Epoch 42/50\n",
      "76/76 [==============================] - 0s 2ms/step - loss: 0.0045 - val_loss: 0.0046\n",
      "Epoch 43/50\n",
      "76/76 [==============================] - 0s 2ms/step - loss: 0.0044 - val_loss: 0.0043\n",
      "Epoch 44/50\n",
      "76/76 [==============================] - 0s 2ms/step - loss: 0.0042 - val_loss: 0.0044\n",
      "Epoch 45/50\n",
      "76/76 [==============================] - 0s 2ms/step - loss: 0.0040 - val_loss: 0.0041\n",
      "Epoch 46/50\n",
      "76/76 [==============================] - 0s 2ms/step - loss: 0.0038 - val_loss: 0.0039\n",
      "Epoch 47/50\n",
      "76/76 [==============================] - 0s 2ms/step - loss: 0.0037 - val_loss: 0.0037\n",
      "Epoch 48/50\n",
      "76/76 [==============================] - 0s 2ms/step - loss: 0.0035 - val_loss: 0.0037\n",
      "Epoch 49/50\n",
      "76/76 [==============================] - 0s 2ms/step - loss: 0.0035 - val_loss: 0.0033\n",
      "Epoch 50/50\n",
      "76/76 [==============================] - 0s 2ms/step - loss: 0.0033 - val_loss: 0.0034\n"
     ]
    },
    {
     "data": {
      "text/plain": [
       "<keras.src.callbacks.History at 0x11d3d978250>"
      ]
     },
     "execution_count": 11,
     "metadata": {},
     "output_type": "execute_result"
    }
   ],
   "source": [
    "#compilling and training the first autoencoder\n",
    "ae1.compile(optimizer='adam', loss='mse')\n",
    "ae1.fit(X_train, X_train, epochs = 50, batch_size = 8, validation_split = 0.1)"
   ]
  },
  {
   "cell_type": "markdown",
   "id": "72058b24-1f55-449c-ad81-040f9c0480a8",
   "metadata": {},
   "source": [
    "## Encoding the original features with the first-level encoder"
   ]
  },
  {
   "cell_type": "code",
   "execution_count": 12,
   "id": "de026ecf-a5d3-4083-a74e-fd3b020d0134",
   "metadata": {},
   "outputs": [
    {
     "name": "stdout",
     "output_type": "stream",
     "text": [
      "21/21 [==============================] - 0s 1ms/step\n"
     ]
    }
   ],
   "source": [
    "#obtaining the first level of encoded features using the first encoder\n",
    "encoded1 = encoder1.predict(X_train)"
   ]
  },
  {
   "cell_type": "markdown",
   "id": "9938ee0a-9366-4347-8944-0b1b3d2affa2",
   "metadata": {},
   "source": [
    "## Construction and training of the second-level autoencoder"
   ]
  },
  {
   "cell_type": "code",
   "execution_count": 13,
   "id": "9bbd5f5d-b703-4b62-ad3e-c59758849625",
   "metadata": {},
   "outputs": [
    {
     "name": "stdout",
     "output_type": "stream",
     "text": [
      "Model: \"model_2\"\n",
      "_________________________________________________________________\n",
      " Layer (type)                Output Shape              Param #   \n",
      "=================================================================\n",
      " input_2 (InputLayer)        [(None, 50)]              0         \n",
      "                                                                 \n",
      " dense_2 (Dense)             (None, 30)                1530      \n",
      "                                                                 \n",
      " dense_3 (Dense)             (None, 50)                1550      \n",
      "                                                                 \n",
      "=================================================================\n",
      "Total params: 3080 (12.03 KB)\n",
      "Trainable params: 3080 (12.03 KB)\n",
      "Non-trainable params: 0 (0.00 Byte)\n",
      "_________________________________________________________________\n"
     ]
    }
   ],
   "source": [
    "#constructing the second Autoencoder\n",
    "\n",
    "#input layer \n",
    "in_ae2 = keras.Input(condensed_e1)\n",
    "#hidden encoded layer\n",
    "h_ae2 = keras.layers.Dense(condensed_e2)(in_ae2)\n",
    "#output layer\n",
    "out_ae2 = keras.layers.Dense(condensed_e1)(h_ae2)\n",
    "\n",
    "ae2 = keras.Model(in_ae2, out_ae2)\n",
    "encoder2 = keras.Model(in_ae2, h_ae2)\n",
    "\n",
    "ae2.summary()"
   ]
  },
  {
   "cell_type": "code",
   "execution_count": 14,
   "id": "ea0ac6d2-84c8-4a6e-a864-2e8c6a7601bd",
   "metadata": {
    "scrolled": true
   },
   "outputs": [
    {
     "name": "stdout",
     "output_type": "stream",
     "text": [
      "Epoch 1/50\n",
      "76/76 [==============================] - 1s 3ms/step - loss: 1.5454 - val_loss: 0.7970\n",
      "Epoch 2/50\n",
      "76/76 [==============================] - 0s 2ms/step - loss: 0.6806 - val_loss: 0.4427\n",
      "Epoch 3/50\n",
      "76/76 [==============================] - 0s 2ms/step - loss: 0.3951 - val_loss: 0.2988\n",
      "Epoch 4/50\n",
      "76/76 [==============================] - 0s 2ms/step - loss: 0.2691 - val_loss: 0.2177\n",
      "Epoch 5/50\n",
      "76/76 [==============================] - 0s 2ms/step - loss: 0.2003 - val_loss: 0.1681\n",
      "Epoch 6/50\n",
      "76/76 [==============================] - 0s 2ms/step - loss: 0.1570 - val_loss: 0.1333\n",
      "Epoch 7/50\n",
      "76/76 [==============================] - 0s 2ms/step - loss: 0.1272 - val_loss: 0.1089\n",
      "Epoch 8/50\n",
      "76/76 [==============================] - 0s 2ms/step - loss: 0.1054 - val_loss: 0.0908\n",
      "Epoch 9/50\n",
      "76/76 [==============================] - 0s 2ms/step - loss: 0.0892 - val_loss: 0.0786\n",
      "Epoch 10/50\n",
      "76/76 [==============================] - 0s 2ms/step - loss: 0.0775 - val_loss: 0.0683\n",
      "Epoch 11/50\n",
      "76/76 [==============================] - 0s 2ms/step - loss: 0.0683 - val_loss: 0.0619\n",
      "Epoch 12/50\n",
      "76/76 [==============================] - 0s 2ms/step - loss: 0.0612 - val_loss: 0.0555\n",
      "Epoch 13/50\n",
      "76/76 [==============================] - 0s 2ms/step - loss: 0.0554 - val_loss: 0.0514\n",
      "Epoch 14/50\n",
      "76/76 [==============================] - 0s 2ms/step - loss: 0.0511 - val_loss: 0.0472\n",
      "Epoch 15/50\n",
      "76/76 [==============================] - 0s 2ms/step - loss: 0.0469 - val_loss: 0.0433\n",
      "Epoch 16/50\n",
      "76/76 [==============================] - 0s 2ms/step - loss: 0.0435 - val_loss: 0.0412\n",
      "Epoch 17/50\n",
      "76/76 [==============================] - 0s 2ms/step - loss: 0.0408 - val_loss: 0.0377\n",
      "Epoch 18/50\n",
      "76/76 [==============================] - 0s 2ms/step - loss: 0.0381 - val_loss: 0.0357\n",
      "Epoch 19/50\n",
      "76/76 [==============================] - 0s 2ms/step - loss: 0.0355 - val_loss: 0.0338\n",
      "Epoch 20/50\n",
      "76/76 [==============================] - 0s 2ms/step - loss: 0.0334 - val_loss: 0.0324\n",
      "Epoch 21/50\n",
      "76/76 [==============================] - 0s 2ms/step - loss: 0.0315 - val_loss: 0.0303\n",
      "Epoch 22/50\n",
      "76/76 [==============================] - 0s 2ms/step - loss: 0.0297 - val_loss: 0.0285\n",
      "Epoch 23/50\n",
      "76/76 [==============================] - 0s 2ms/step - loss: 0.0281 - val_loss: 0.0273\n",
      "Epoch 24/50\n",
      "76/76 [==============================] - 0s 2ms/step - loss: 0.0267 - val_loss: 0.0261\n",
      "Epoch 25/50\n",
      "76/76 [==============================] - 0s 2ms/step - loss: 0.0253 - val_loss: 0.0243\n",
      "Epoch 26/50\n",
      "76/76 [==============================] - 0s 2ms/step - loss: 0.0242 - val_loss: 0.0237\n",
      "Epoch 27/50\n",
      "76/76 [==============================] - 0s 2ms/step - loss: 0.0230 - val_loss: 0.0226\n",
      "Epoch 28/50\n",
      "76/76 [==============================] - 0s 2ms/step - loss: 0.0221 - val_loss: 0.0215\n",
      "Epoch 29/50\n",
      "76/76 [==============================] - 0s 2ms/step - loss: 0.0212 - val_loss: 0.0203\n",
      "Epoch 30/50\n",
      "76/76 [==============================] - 0s 2ms/step - loss: 0.0203 - val_loss: 0.0196\n",
      "Epoch 31/50\n",
      "76/76 [==============================] - 0s 2ms/step - loss: 0.0195 - val_loss: 0.0191\n",
      "Epoch 32/50\n",
      "76/76 [==============================] - 0s 2ms/step - loss: 0.0187 - val_loss: 0.0184\n",
      "Epoch 33/50\n",
      "76/76 [==============================] - 0s 2ms/step - loss: 0.0182 - val_loss: 0.0177\n",
      "Epoch 34/50\n",
      "76/76 [==============================] - 0s 3ms/step - loss: 0.0174 - val_loss: 0.0171\n",
      "Epoch 35/50\n",
      "76/76 [==============================] - 0s 2ms/step - loss: 0.0167 - val_loss: 0.0161\n",
      "Epoch 36/50\n",
      "76/76 [==============================] - 0s 2ms/step - loss: 0.0163 - val_loss: 0.0160\n",
      "Epoch 37/50\n",
      "76/76 [==============================] - 0s 2ms/step - loss: 0.0158 - val_loss: 0.0151\n",
      "Epoch 38/50\n",
      "76/76 [==============================] - 0s 2ms/step - loss: 0.0153 - val_loss: 0.0150\n",
      "Epoch 39/50\n",
      "76/76 [==============================] - 0s 2ms/step - loss: 0.0148 - val_loss: 0.0145\n",
      "Epoch 40/50\n",
      "76/76 [==============================] - 0s 2ms/step - loss: 0.0143 - val_loss: 0.0136\n",
      "Epoch 41/50\n",
      "76/76 [==============================] - 0s 2ms/step - loss: 0.0139 - val_loss: 0.0135\n",
      "Epoch 42/50\n",
      "76/76 [==============================] - 0s 2ms/step - loss: 0.0134 - val_loss: 0.0130\n",
      "Epoch 43/50\n",
      "76/76 [==============================] - 0s 2ms/step - loss: 0.0131 - val_loss: 0.0126\n",
      "Epoch 44/50\n",
      "76/76 [==============================] - 0s 2ms/step - loss: 0.0130 - val_loss: 0.0125\n",
      "Epoch 45/50\n",
      "76/76 [==============================] - 0s 2ms/step - loss: 0.0124 - val_loss: 0.0124\n",
      "Epoch 46/50\n",
      "76/76 [==============================] - 0s 2ms/step - loss: 0.0122 - val_loss: 0.0117\n",
      "Epoch 47/50\n",
      "76/76 [==============================] - 0s 2ms/step - loss: 0.0118 - val_loss: 0.0118\n",
      "Epoch 48/50\n",
      "76/76 [==============================] - 0s 2ms/step - loss: 0.0115 - val_loss: 0.0115\n",
      "Epoch 49/50\n",
      "76/76 [==============================] - 0s 2ms/step - loss: 0.0111 - val_loss: 0.0109\n",
      "Epoch 50/50\n",
      "76/76 [==============================] - 0s 2ms/step - loss: 0.0110 - val_loss: 0.0109\n"
     ]
    },
    {
     "data": {
      "text/plain": [
       "<keras.src.callbacks.History at 0x11d40233e10>"
      ]
     },
     "execution_count": 14,
     "metadata": {},
     "output_type": "execute_result"
    }
   ],
   "source": [
    "#compilling and training the second autoencoder using the encoded features from the first encoder\n",
    "ae2.compile(optimizer='adam', loss='mse')\n",
    "ae2.fit(encoded1, encoded1, epochs = 50, batch_size = 8, validation_split = 0.1)"
   ]
  },
  {
   "cell_type": "markdown",
   "id": "a34448d7-0f26-44cd-8ee1-2c4c2bedc6bf",
   "metadata": {},
   "source": [
    "## Encoding the first-level features with the second-level encoder"
   ]
  },
  {
   "cell_type": "code",
   "execution_count": 15,
   "id": "fc15f86b-f0a6-4cc1-a563-a5d74b8b690d",
   "metadata": {},
   "outputs": [
    {
     "name": "stdout",
     "output_type": "stream",
     "text": [
      "21/21 [==============================] - 0s 1ms/step\n"
     ]
    }
   ],
   "source": [
    "#obtaining the second level of encoded features using the second encoder\n",
    "encoded2 = encoder2.predict(encoded1)"
   ]
  },
  {
   "cell_type": "markdown",
   "id": "81e5f521-c10c-42c8-b966-115953e6a351",
   "metadata": {},
   "source": [
    "## Construction and training of the third-level autoencoder"
   ]
  },
  {
   "cell_type": "code",
   "execution_count": 16,
   "id": "77a47f9f-b386-4b40-a06c-f4d8cd4c2217",
   "metadata": {},
   "outputs": [
    {
     "name": "stdout",
     "output_type": "stream",
     "text": [
      "Model: \"model_4\"\n",
      "_________________________________________________________________\n",
      " Layer (type)                Output Shape              Param #   \n",
      "=================================================================\n",
      " input_3 (InputLayer)        [(None, 30)]              0         \n",
      "                                                                 \n",
      " dense_4 (Dense)             (None, 10)                310       \n",
      "                                                                 \n",
      " dense_5 (Dense)             (None, 30)                330       \n",
      "                                                                 \n",
      "=================================================================\n",
      "Total params: 640 (2.50 KB)\n",
      "Trainable params: 640 (2.50 KB)\n",
      "Non-trainable params: 0 (0.00 Byte)\n",
      "_________________________________________________________________\n"
     ]
    }
   ],
   "source": [
    "#constructing the third Autoencoder\n",
    "\n",
    "#input layer \n",
    "in_ae3 = keras.Input(condensed_e2)\n",
    "#hidden encoded layer\n",
    "h_ae3 = keras.layers.Dense(condensed_e3)(in_ae3)\n",
    "#output layer\n",
    "out_ae3 = keras.layers.Dense(condensed_e2)(h_ae3)\n",
    "\n",
    "ae3 = keras.Model(in_ae3, out_ae3)\n",
    "encoder3 = keras.Model(in_ae3, h_ae3)\n",
    "\n",
    "ae3.summary()"
   ]
  },
  {
   "cell_type": "code",
   "execution_count": 17,
   "id": "5e9c04c7-e535-4932-b056-fd26acec0d59",
   "metadata": {
    "scrolled": true
   },
   "outputs": [
    {
     "name": "stdout",
     "output_type": "stream",
     "text": [
      "Epoch 1/50\n",
      "76/76 [==============================] - 1s 3ms/step - loss: 2.9634 - val_loss: 2.0508\n",
      "Epoch 2/50\n",
      "76/76 [==============================] - 0s 2ms/step - loss: 1.9371 - val_loss: 1.4378\n",
      "Epoch 3/50\n",
      "76/76 [==============================] - 0s 2ms/step - loss: 1.3860 - val_loss: 1.0655\n",
      "Epoch 4/50\n",
      "76/76 [==============================] - 0s 2ms/step - loss: 1.0697 - val_loss: 0.8773\n",
      "Epoch 5/50\n",
      "76/76 [==============================] - 0s 2ms/step - loss: 0.8973 - val_loss: 0.7657\n",
      "Epoch 6/50\n",
      "76/76 [==============================] - 0s 2ms/step - loss: 0.7824 - val_loss: 0.6811\n",
      "Epoch 7/50\n",
      "76/76 [==============================] - 0s 2ms/step - loss: 0.6939 - val_loss: 0.6094\n",
      "Epoch 8/50\n",
      "76/76 [==============================] - 0s 2ms/step - loss: 0.6218 - val_loss: 0.5525\n",
      "Epoch 9/50\n",
      "76/76 [==============================] - 0s 2ms/step - loss: 0.5620 - val_loss: 0.5022\n",
      "Epoch 10/50\n",
      "76/76 [==============================] - 0s 2ms/step - loss: 0.5144 - val_loss: 0.4610\n",
      "Epoch 11/50\n",
      "76/76 [==============================] - 0s 2ms/step - loss: 0.4758 - val_loss: 0.4301\n",
      "Epoch 12/50\n",
      "76/76 [==============================] - 0s 2ms/step - loss: 0.4462 - val_loss: 0.4060\n",
      "Epoch 13/50\n",
      "76/76 [==============================] - 0s 2ms/step - loss: 0.4238 - val_loss: 0.3905\n",
      "Epoch 14/50\n",
      "76/76 [==============================] - 0s 2ms/step - loss: 0.4056 - val_loss: 0.3760\n",
      "Epoch 15/50\n",
      "76/76 [==============================] - 0s 2ms/step - loss: 0.3924 - val_loss: 0.3668\n",
      "Epoch 16/50\n",
      "76/76 [==============================] - 0s 2ms/step - loss: 0.3816 - val_loss: 0.3568\n",
      "Epoch 17/50\n",
      "76/76 [==============================] - 0s 2ms/step - loss: 0.3723 - val_loss: 0.3501\n",
      "Epoch 18/50\n",
      "76/76 [==============================] - 0s 2ms/step - loss: 0.3649 - val_loss: 0.3424\n",
      "Epoch 19/50\n",
      "76/76 [==============================] - 0s 2ms/step - loss: 0.3580 - val_loss: 0.3370\n",
      "Epoch 20/50\n",
      "76/76 [==============================] - 0s 2ms/step - loss: 0.3526 - val_loss: 0.3312\n",
      "Epoch 21/50\n",
      "76/76 [==============================] - 0s 2ms/step - loss: 0.3476 - val_loss: 0.3291\n",
      "Epoch 22/50\n",
      "76/76 [==============================] - 0s 2ms/step - loss: 0.3428 - val_loss: 0.3243\n",
      "Epoch 23/50\n",
      "76/76 [==============================] - 0s 2ms/step - loss: 0.3390 - val_loss: 0.3197\n",
      "Epoch 24/50\n",
      "76/76 [==============================] - 0s 2ms/step - loss: 0.3349 - val_loss: 0.3178\n",
      "Epoch 25/50\n",
      "76/76 [==============================] - 0s 2ms/step - loss: 0.3318 - val_loss: 0.3130\n",
      "Epoch 26/50\n",
      "76/76 [==============================] - 0s 2ms/step - loss: 0.3291 - val_loss: 0.3114\n",
      "Epoch 27/50\n",
      "76/76 [==============================] - 0s 2ms/step - loss: 0.3265 - val_loss: 0.3085\n",
      "Epoch 28/50\n",
      "76/76 [==============================] - 0s 2ms/step - loss: 0.3237 - val_loss: 0.3062\n",
      "Epoch 29/50\n",
      "76/76 [==============================] - 0s 2ms/step - loss: 0.3220 - val_loss: 0.3049\n",
      "Epoch 30/50\n",
      "76/76 [==============================] - 0s 2ms/step - loss: 0.3199 - val_loss: 0.3039\n",
      "Epoch 31/50\n",
      "76/76 [==============================] - 0s 2ms/step - loss: 0.3178 - val_loss: 0.3016\n",
      "Epoch 32/50\n",
      "76/76 [==============================] - 0s 2ms/step - loss: 0.3159 - val_loss: 0.2998\n",
      "Epoch 33/50\n",
      "76/76 [==============================] - 0s 2ms/step - loss: 0.3139 - val_loss: 0.2995\n",
      "Epoch 34/50\n",
      "76/76 [==============================] - 0s 2ms/step - loss: 0.3124 - val_loss: 0.2997\n",
      "Epoch 35/50\n",
      "76/76 [==============================] - 0s 2ms/step - loss: 0.3110 - val_loss: 0.2969\n",
      "Epoch 36/50\n",
      "76/76 [==============================] - 0s 2ms/step - loss: 0.3097 - val_loss: 0.2955\n",
      "Epoch 37/50\n",
      "76/76 [==============================] - 0s 2ms/step - loss: 0.3086 - val_loss: 0.2932\n",
      "Epoch 38/50\n",
      "76/76 [==============================] - 0s 2ms/step - loss: 0.3073 - val_loss: 0.2946\n",
      "Epoch 39/50\n",
      "76/76 [==============================] - 0s 2ms/step - loss: 0.3058 - val_loss: 0.2925\n",
      "Epoch 40/50\n",
      "76/76 [==============================] - 0s 2ms/step - loss: 0.3048 - val_loss: 0.2930\n",
      "Epoch 41/50\n",
      "76/76 [==============================] - 0s 2ms/step - loss: 0.3035 - val_loss: 0.2916\n",
      "Epoch 42/50\n",
      "76/76 [==============================] - 0s 2ms/step - loss: 0.3028 - val_loss: 0.2910\n",
      "Epoch 43/50\n",
      "76/76 [==============================] - 0s 2ms/step - loss: 0.3019 - val_loss: 0.2898\n",
      "Epoch 44/50\n",
      "76/76 [==============================] - 0s 2ms/step - loss: 0.3007 - val_loss: 0.2898\n",
      "Epoch 45/50\n",
      "76/76 [==============================] - 0s 2ms/step - loss: 0.3000 - val_loss: 0.2897\n",
      "Epoch 46/50\n",
      "76/76 [==============================] - 0s 2ms/step - loss: 0.2994 - val_loss: 0.2882\n",
      "Epoch 47/50\n",
      "76/76 [==============================] - 0s 2ms/step - loss: 0.2985 - val_loss: 0.2882\n",
      "Epoch 48/50\n",
      "76/76 [==============================] - 0s 2ms/step - loss: 0.2979 - val_loss: 0.2864\n",
      "Epoch 49/50\n",
      "76/76 [==============================] - 0s 2ms/step - loss: 0.2970 - val_loss: 0.2870\n",
      "Epoch 50/50\n",
      "76/76 [==============================] - 0s 2ms/step - loss: 0.2968 - val_loss: 0.2853\n"
     ]
    },
    {
     "data": {
      "text/plain": [
       "<keras.src.callbacks.History at 0x11d400ca790>"
      ]
     },
     "execution_count": 17,
     "metadata": {},
     "output_type": "execute_result"
    }
   ],
   "source": [
    "#compilling and training the third autoencoder using the encoded features from the second encoder\n",
    "ae3.compile(optimizer='adam', loss='mse')\n",
    "ae3.fit(encoded2, encoded2, epochs = 50, batch_size = 8, validation_split = 0.1)"
   ]
  },
  {
   "cell_type": "markdown",
   "id": "bf0ad54d-3f76-4521-a7b0-c5781f3f3026",
   "metadata": {},
   "source": [
    "## Constructing the final stacked autoencoder "
   ]
  },
  {
   "cell_type": "code",
   "execution_count": 18,
   "id": "1b4f459d-1e3a-47ce-a7c2-08e818f61ffc",
   "metadata": {},
   "outputs": [
    {
     "name": "stdout",
     "output_type": "stream",
     "text": [
      "Model: \"model_6\"\n",
      "_________________________________________________________________\n",
      " Layer (type)                Output Shape              Param #   \n",
      "=================================================================\n",
      " input_4 (InputLayer)        [(None, 66)]              0         \n",
      "                                                                 \n",
      " dense_6 (Dense)             (None, 50)                3350      \n",
      "                                                                 \n",
      " dense_7 (Dense)             (None, 30)                1530      \n",
      "                                                                 \n",
      " dense_8 (Dense)             (None, 10)                310       \n",
      "                                                                 \n",
      " dense_9 (Dense)             (None, 30)                330       \n",
      "                                                                 \n",
      " dense_10 (Dense)            (None, 50)                1550      \n",
      "                                                                 \n",
      " dense_11 (Dense)            (None, 66)                3366      \n",
      "                                                                 \n",
      "=================================================================\n",
      "Total params: 10436 (40.77 KB)\n",
      "Trainable params: 10436 (40.77 KB)\n",
      "Non-trainable params: 0 (0.00 Byte)\n",
      "_________________________________________________________________\n"
     ]
    }
   ],
   "source": [
    "#constructing the stacked autoencoder. Initialising all the layers\n",
    "\n",
    "#input layer which number of neurons equals the number of original features\n",
    "l_in = keras.Input(features.shape[1])\n",
    "\n",
    "#hidden layer of encoder 1\n",
    "l_e1 = keras.layers.Dense(condensed_e1)(l_in)\n",
    "\n",
    "#hidden layer of encoder 2\n",
    "l_e2 = keras.layers.Dense(condensed_e2)(l_e1)\n",
    "\n",
    "#hidden layer of encoder 3\n",
    "l_e3 = keras.layers.Dense(condensed_e3)(l_e2)\n",
    "\n",
    "#hidden layer of decoder 2\n",
    "l_d2 = keras.layers.Dense(condensed_e2)(l_e3)\n",
    "\n",
    "#hidden layer of decoder 1\n",
    "l_d1 = keras.layers.Dense(condensed_e1)(l_d2)\n",
    "\n",
    "#output layer which is the same as the input\n",
    "l_out = keras.layers.Dense(features.shape[1])(l_d1)\n",
    "\n",
    "#defining the autoencode\n",
    "stacked_ae = keras.Model(l_in, l_out)\n",
    "\n",
    "stacked_ae.summary()"
   ]
  },
  {
   "cell_type": "markdown",
   "id": "9f36b8c4-f5ee-44df-9622-d7d8cb2710f0",
   "metadata": {},
   "source": [
    "## Transferring the trained weights of the 3 autoencoders to the stacked autoencoder"
   ]
  },
  {
   "cell_type": "code",
   "execution_count": 19,
   "id": "654179e1-21a3-452e-a00d-a9879d3e5c8e",
   "metadata": {},
   "outputs": [],
   "source": [
    "#setting the weights of the stacked autoencoder to those in the trained autoencoders \n",
    "\n",
    "#first encoder layer\n",
    "stacked_ae.layers[1].set_weights(ae1.layers[1].get_weights())\n",
    "#second encoder layer\n",
    "stacked_ae.layers[2].set_weights(ae2.layers[1].get_weights())\n",
    "#third encoder layer\n",
    "stacked_ae.layers[3].set_weights(ae3.layers[1].get_weights())\n",
    "#first decoder layer\n",
    "stacked_ae.layers[4].set_weights(ae3.layers[2].get_weights())\n",
    "#second decoder layer\n",
    "stacked_ae.layers[5].set_weights(ae2.layers[2].get_weights())\n",
    "#second decoder layer\n",
    "stacked_ae.layers[6].set_weights(ae1.layers[2].get_weights())"
   ]
  },
  {
   "cell_type": "markdown",
   "id": "fc04a949-9229-4fdc-bd65-86da2aaae8a7",
   "metadata": {},
   "source": [
    "## Evaluating the performance of stacked autoencoder"
   ]
  },
  {
   "cell_type": "code",
   "execution_count": 20,
   "id": "0e6a13fd-a967-4cdd-b622-62e073ed75da",
   "metadata": {},
   "outputs": [
    {
     "name": "stdout",
     "output_type": "stream",
     "text": [
      "6/6 [==============================] - 0s 1ms/step\n",
      "0.3070091387501804\n"
     ]
    }
   ],
   "source": [
    "from sklearn.metrics import mean_absolute_error\n",
    "\n",
    "pred = stacked_ae.predict(X_test)\n",
    "print(mean_absolute_error(X_test,pred))"
   ]
  }
 ],
 "metadata": {
  "kernelspec": {
   "display_name": "Python 3 (ipykernel)",
   "language": "python",
   "name": "python3"
  },
  "language_info": {
   "codemirror_mode": {
    "name": "ipython",
    "version": 3
   },
   "file_extension": ".py",
   "mimetype": "text/x-python",
   "name": "python",
   "nbconvert_exporter": "python",
   "pygments_lexer": "ipython3",
   "version": "3.11.0"
  }
 },
 "nbformat": 4,
 "nbformat_minor": 5
}
