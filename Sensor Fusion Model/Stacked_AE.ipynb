{
 "cells": [
  {
   "cell_type": "markdown",
   "id": "dfa0ccb5-1829-4497-a96d-8fc5c8cf1742",
   "metadata": {},
   "source": [
    "## Import the libraries"
   ]
  },
  {
   "cell_type": "code",
   "execution_count": 1,
   "id": "a9bdecde-8406-413c-b358-04500c3b6ccf",
   "metadata": {},
   "outputs": [
    {
     "name": "stdout",
     "output_type": "stream",
     "text": [
      "WARNING:tensorflow:From C:\\Users\\Teo Boon Kean\\AppData\\Local\\Programs\\Python\\Python311\\Lib\\site-packages\\keras\\src\\losses.py:2976: The name tf.losses.sparse_softmax_cross_entropy is deprecated. Please use tf.compat.v1.losses.sparse_softmax_cross_entropy instead.\n",
      "\n"
     ]
    }
   ],
   "source": [
    "#importing the libraries\n",
    "import tensorflow as tf  \n",
    "from tensorflow import keras\n",
    "import numpy as np\n",
    "import pandas as pd"
   ]
  },
  {
   "cell_type": "markdown",
   "id": "f36b24f2-f74a-47f4-bcf9-31c54a40a737",
   "metadata": {},
   "source": [
    "## Load the data and data pre-processing"
   ]
  },
  {
   "cell_type": "code",
   "execution_count": 2,
   "id": "a9e1186e-987f-45ac-9f20-e3b830e73ec4",
   "metadata": {},
   "outputs": [],
   "source": [
    "#load the datasets\n",
    "baseline_df = pd.read_excel('extracted_features_baseline.xlsx')\n",
    "toolwear_df = pd.read_excel('extracted_features_toolwear.xlsx')"
   ]
  },
  {
   "cell_type": "code",
   "execution_count": 3,
   "id": "6250f7fb-23b0-4f79-a30c-1c12725784a0",
   "metadata": {},
   "outputs": [],
   "source": [
    "#labelling the datasets. 0 for baseline, 1 for toolwear. This will be the variable the model tries to predict\n",
    "baseline_df[\"state\"] = 0\n",
    "toolwear_df[\"state\"] = 1"
   ]
  },
  {
   "cell_type": "code",
   "execution_count": 4,
   "id": "faf125a2-8903-4443-b7f9-08e72f3ff4da",
   "metadata": {},
   "outputs": [
    {
     "name": "stdout",
     "output_type": "stream",
     "text": [
      "(840, 67)\n"
     ]
    }
   ],
   "source": [
    "#concantanate the datasets\n",
    "combined_df = pd.concat([baseline_df, toolwear_df], axis=0)\n",
    "print(combined_df.shape)"
   ]
  },
  {
   "cell_type": "code",
   "execution_count": 5,
   "id": "849cfa0c-1054-47a1-af76-633bb08bcae0",
   "metadata": {},
   "outputs": [
    {
     "name": "stdout",
     "output_type": "stream",
     "text": [
      "(840,)\n"
     ]
    }
   ],
   "source": [
    "#getting the y label \n",
    "state = combined_df[\"state\"].values\n",
    "print(state.shape)"
   ]
  },
  {
   "cell_type": "code",
   "execution_count": 6,
   "id": "97c4c4b0-997b-4562-b642-d1c78e05b649",
   "metadata": {},
   "outputs": [
    {
     "name": "stdout",
     "output_type": "stream",
     "text": [
      "(840, 66)\n"
     ]
    }
   ],
   "source": [
    "#getting the features to train the model\n",
    "features = combined_df.drop('state', axis=1).values\n",
    "print(features.shape)"
   ]
  },
  {
   "cell_type": "code",
   "execution_count": 7,
   "id": "9afaaf52-9d2d-437d-a3bd-beb6d03944d7",
   "metadata": {},
   "outputs": [],
   "source": [
    "#train test split\n",
    "from sklearn.model_selection import train_test_split\n",
    "X_train, X_test, Y_train, Y_test = train_test_split(features, state, test_size=0.2, random_state=50)"
   ]
  },
  {
   "cell_type": "code",
   "execution_count": 8,
   "id": "cfdf1cb9-bab6-49f6-a649-f3ba6214e00d",
   "metadata": {},
   "outputs": [],
   "source": [
    "#data scalling\n",
    "from sklearn.preprocessing import StandardScaler\n",
    "\n",
    "sc = StandardScaler()\n",
    "X_train = sc.fit_transform(X_train)\n",
    "X_test = sc.transform(X_test)"
   ]
  },
  {
   "cell_type": "markdown",
   "id": "6a9b45fc-4a76-44dc-a969-1fe4ce97bfd5",
   "metadata": {},
   "source": [
    "## Constructing the stacked autoencoder and training it"
   ]
  },
  {
   "cell_type": "code",
   "execution_count": 9,
   "id": "4a7ee9d2-fa08-4011-a86b-29d6a3938e97",
   "metadata": {},
   "outputs": [],
   "source": [
    "#specify the number of condensed features for the 3 encoders. This will be the number of neurons in the hidden layer\n",
    "condensed_e1 = 50\n",
    "condensed_e2 = 30\n",
    "condensed_e3 = 10"
   ]
  },
  {
   "cell_type": "code",
   "execution_count": 10,
   "id": "1b4f459d-1e3a-47ce-a7c2-08e818f61ffc",
   "metadata": {},
   "outputs": [
    {
     "name": "stdout",
     "output_type": "stream",
     "text": [
      "WARNING:tensorflow:From C:\\Users\\Teo Boon Kean\\AppData\\Local\\Programs\\Python\\Python311\\Lib\\site-packages\\keras\\src\\backend.py:1398: The name tf.executing_eagerly_outside_functions is deprecated. Please use tf.compat.v1.executing_eagerly_outside_functions instead.\n",
      "\n"
     ]
    }
   ],
   "source": [
    "#constructing the model\n",
    "\n",
    "#input layer which number of neurons equals the number of original features\n",
    "l_in = keras.Input(features.shape[1])\n",
    "\n",
    "#hidden layer of encoder 1\n",
    "l_e1 = keras.layers.Dense(condensed_e1)(l_in)\n",
    "\n",
    "#hidden layer of encoder 2\n",
    "l_e2 = keras.layers.Dense(condensed_e2)(l_e1)\n",
    "\n",
    "#hidden layer of encoder 3\n",
    "l_e3 = keras.layers.Dense(condensed_e3)(l_e2)\n",
    "\n",
    "#hidden layer of decoder 2\n",
    "l_d2 = keras.layers.Dense(condensed_e2)(l_e3)\n",
    "\n",
    "#hidden layer of decoder 1\n",
    "l_d1 = keras.layers.Dense(condensed_e1)(l_d2)\n",
    "\n",
    "#output layer which is the same as the input\n",
    "l_out = keras.layers.Dense(features.shape[1])(l_d1)"
   ]
  },
  {
   "cell_type": "code",
   "execution_count": 11,
   "id": "431068b4-4362-452a-a24a-dd59ab591b04",
   "metadata": {},
   "outputs": [],
   "source": [
    "#defining the autoencode\n",
    "autoencoder = keras.Model(l_in, l_out)"
   ]
  },
  {
   "cell_type": "code",
   "execution_count": 12,
   "id": "294b4b2b-834d-4bb7-97aa-a27ba2d5ccae",
   "metadata": {},
   "outputs": [
    {
     "name": "stdout",
     "output_type": "stream",
     "text": [
      "Model: \"model\"\n",
      "_________________________________________________________________\n",
      " Layer (type)                Output Shape              Param #   \n",
      "=================================================================\n",
      " input_1 (InputLayer)        [(None, 66)]              0         \n",
      "                                                                 \n",
      " dense (Dense)               (None, 50)                3350      \n",
      "                                                                 \n",
      " dense_1 (Dense)             (None, 30)                1530      \n",
      "                                                                 \n",
      " dense_2 (Dense)             (None, 10)                310       \n",
      "                                                                 \n",
      " dense_3 (Dense)             (None, 30)                330       \n",
      "                                                                 \n",
      " dense_4 (Dense)             (None, 50)                1550      \n",
      "                                                                 \n",
      " dense_5 (Dense)             (None, 66)                3366      \n",
      "                                                                 \n",
      "=================================================================\n",
      "Total params: 10436 (40.77 KB)\n",
      "Trainable params: 10436 (40.77 KB)\n",
      "Non-trainable params: 0 (0.00 Byte)\n",
      "_________________________________________________________________\n"
     ]
    }
   ],
   "source": [
    "autoencoder.summary()"
   ]
  },
  {
   "cell_type": "code",
   "execution_count": 13,
   "id": "155cd6ce-485a-466e-a5fc-12c051851e73",
   "metadata": {
    "scrolled": true
   },
   "outputs": [
    {
     "name": "stdout",
     "output_type": "stream",
     "text": [
      "WARNING:tensorflow:From C:\\Users\\Teo Boon Kean\\AppData\\Local\\Programs\\Python\\Python311\\Lib\\site-packages\\keras\\src\\optimizers\\__init__.py:309: The name tf.train.Optimizer is deprecated. Please use tf.compat.v1.train.Optimizer instead.\n",
      "\n",
      "Epoch 1/50\n",
      "WARNING:tensorflow:From C:\\Users\\Teo Boon Kean\\AppData\\Local\\Programs\\Python\\Python311\\Lib\\site-packages\\keras\\src\\utils\\tf_utils.py:492: The name tf.ragged.RaggedTensorValue is deprecated. Please use tf.compat.v1.ragged.RaggedTensorValue instead.\n",
      "\n",
      "76/76 [==============================] - 6s 14ms/step - loss: 0.7300 - val_loss: 0.3674\n",
      "Epoch 2/50\n",
      "76/76 [==============================] - 0s 5ms/step - loss: 0.3338 - val_loss: 0.2611\n",
      "Epoch 3/50\n",
      "76/76 [==============================] - 0s 5ms/step - loss: 0.2582 - val_loss: 0.2160\n",
      "Epoch 4/50\n",
      "76/76 [==============================] - 0s 5ms/step - loss: 0.2133 - val_loss: 0.1840\n",
      "Epoch 5/50\n",
      "76/76 [==============================] - 0s 5ms/step - loss: 0.1864 - val_loss: 0.1638\n",
      "Epoch 6/50\n",
      "76/76 [==============================] - 0s 6ms/step - loss: 0.1709 - val_loss: 0.1560\n",
      "Epoch 7/50\n",
      "76/76 [==============================] - 0s 6ms/step - loss: 0.1620 - val_loss: 0.1505\n",
      "Epoch 8/50\n",
      "76/76 [==============================] - 0s 5ms/step - loss: 0.1559 - val_loss: 0.1461\n",
      "Epoch 9/50\n",
      "76/76 [==============================] - 0s 5ms/step - loss: 0.1530 - val_loss: 0.1422\n",
      "Epoch 10/50\n",
      "76/76 [==============================] - 0s 5ms/step - loss: 0.1512 - val_loss: 0.1431\n",
      "Epoch 11/50\n",
      "76/76 [==============================] - 0s 5ms/step - loss: 0.1501 - val_loss: 0.1401\n",
      "Epoch 12/50\n",
      "76/76 [==============================] - 0s 5ms/step - loss: 0.1493 - val_loss: 0.1420\n",
      "Epoch 13/50\n",
      "76/76 [==============================] - 0s 6ms/step - loss: 0.1480 - val_loss: 0.1392\n",
      "Epoch 14/50\n",
      "76/76 [==============================] - 0s 5ms/step - loss: 0.1475 - val_loss: 0.1395\n",
      "Epoch 15/50\n",
      "76/76 [==============================] - 0s 6ms/step - loss: 0.1470 - val_loss: 0.1406\n",
      "Epoch 16/50\n",
      "76/76 [==============================] - 0s 5ms/step - loss: 0.1475 - val_loss: 0.1387\n",
      "Epoch 17/50\n",
      "76/76 [==============================] - 0s 6ms/step - loss: 0.1470 - val_loss: 0.1401\n",
      "Epoch 18/50\n",
      "76/76 [==============================] - 0s 5ms/step - loss: 0.1474 - val_loss: 0.1389\n",
      "Epoch 19/50\n",
      "76/76 [==============================] - 0s 5ms/step - loss: 0.1465 - val_loss: 0.1393\n",
      "Epoch 20/50\n",
      "76/76 [==============================] - 0s 6ms/step - loss: 0.1461 - val_loss: 0.1363\n",
      "Epoch 21/50\n",
      "76/76 [==============================] - 0s 5ms/step - loss: 0.1461 - val_loss: 0.1368\n",
      "Epoch 22/50\n",
      "76/76 [==============================] - 0s 5ms/step - loss: 0.1461 - val_loss: 0.1391\n",
      "Epoch 23/50\n",
      "76/76 [==============================] - 0s 6ms/step - loss: 0.1465 - val_loss: 0.1379\n",
      "Epoch 24/50\n",
      "76/76 [==============================] - 0s 5ms/step - loss: 0.1463 - val_loss: 0.1366\n",
      "Epoch 25/50\n",
      "76/76 [==============================] - 0s 5ms/step - loss: 0.1460 - val_loss: 0.1389\n",
      "Epoch 26/50\n",
      "76/76 [==============================] - 0s 5ms/step - loss: 0.1474 - val_loss: 0.1382\n",
      "Epoch 27/50\n",
      "76/76 [==============================] - 0s 5ms/step - loss: 0.1461 - val_loss: 0.1381\n",
      "Epoch 28/50\n",
      "76/76 [==============================] - 0s 5ms/step - loss: 0.1461 - val_loss: 0.1386\n",
      "Epoch 29/50\n",
      "76/76 [==============================] - 0s 5ms/step - loss: 0.1469 - val_loss: 0.1384\n",
      "Epoch 30/50\n",
      "76/76 [==============================] - 0s 6ms/step - loss: 0.1466 - val_loss: 0.1372\n",
      "Epoch 31/50\n",
      "76/76 [==============================] - 0s 6ms/step - loss: 0.1457 - val_loss: 0.1367\n",
      "Epoch 32/50\n",
      "76/76 [==============================] - 0s 5ms/step - loss: 0.1454 - val_loss: 0.1371\n",
      "Epoch 33/50\n",
      "76/76 [==============================] - 0s 5ms/step - loss: 0.1459 - val_loss: 0.1385\n",
      "Epoch 34/50\n",
      "76/76 [==============================] - 0s 5ms/step - loss: 0.1455 - val_loss: 0.1372\n",
      "Epoch 35/50\n",
      "76/76 [==============================] - 0s 5ms/step - loss: 0.1452 - val_loss: 0.1371\n",
      "Epoch 36/50\n",
      "76/76 [==============================] - 0s 5ms/step - loss: 0.1453 - val_loss: 0.1365\n",
      "Epoch 37/50\n",
      "76/76 [==============================] - 0s 5ms/step - loss: 0.1453 - val_loss: 0.1366\n",
      "Epoch 38/50\n",
      "76/76 [==============================] - 0s 5ms/step - loss: 0.1455 - val_loss: 0.1359\n",
      "Epoch 39/50\n",
      "76/76 [==============================] - 0s 5ms/step - loss: 0.1454 - val_loss: 0.1387\n",
      "Epoch 40/50\n",
      "76/76 [==============================] - 0s 5ms/step - loss: 0.1457 - val_loss: 0.1362\n",
      "Epoch 41/50\n",
      "76/76 [==============================] - 0s 6ms/step - loss: 0.1461 - val_loss: 0.1371\n",
      "Epoch 42/50\n",
      "76/76 [==============================] - 0s 6ms/step - loss: 0.1463 - val_loss: 0.1376\n",
      "Epoch 43/50\n",
      "76/76 [==============================] - 0s 6ms/step - loss: 0.1461 - val_loss: 0.1380\n",
      "Epoch 44/50\n",
      "76/76 [==============================] - 0s 6ms/step - loss: 0.1456 - val_loss: 0.1375\n",
      "Epoch 45/50\n",
      "76/76 [==============================] - 0s 6ms/step - loss: 0.1457 - val_loss: 0.1392\n",
      "Epoch 46/50\n",
      "76/76 [==============================] - 0s 5ms/step - loss: 0.1475 - val_loss: 0.1381\n",
      "Epoch 47/50\n",
      "76/76 [==============================] - 0s 5ms/step - loss: 0.1459 - val_loss: 0.1363\n",
      "Epoch 48/50\n",
      "76/76 [==============================] - 0s 6ms/step - loss: 0.1458 - val_loss: 0.1374\n",
      "Epoch 49/50\n",
      "76/76 [==============================] - 0s 5ms/step - loss: 0.1453 - val_loss: 0.1377\n",
      "Epoch 50/50\n",
      "76/76 [==============================] - 0s 5ms/step - loss: 0.1452 - val_loss: 0.1389\n"
     ]
    },
    {
     "data": {
      "text/plain": [
       "<keras.src.callbacks.History at 0x20630cb3ed0>"
      ]
     },
     "execution_count": 13,
     "metadata": {},
     "output_type": "execute_result"
    }
   ],
   "source": [
    "#compile the model\n",
    "autoencoder.compile(optimizer='adam', loss='mse')\n",
    "#train the model\n",
    "autoencoder.fit(X_train, X_train, epochs = 50, batch_size = 8, validation_split = 0.1)"
   ]
  },
  {
   "cell_type": "markdown",
   "id": "3f3d8a67-37c2-4950-a98a-a91d811618d1",
   "metadata": {},
   "source": [
    "## Model Evaluation"
   ]
  },
  {
   "cell_type": "code",
   "execution_count": 14,
   "id": "0e6a13fd-a967-4cdd-b622-62e073ed75da",
   "metadata": {},
   "outputs": [
    {
     "name": "stdout",
     "output_type": "stream",
     "text": [
      "6/6 [==============================] - 0s 4ms/step\n",
      "0.27588827367051055\n"
     ]
    }
   ],
   "source": [
    "from sklearn.metrics import mean_absolute_error\n",
    "\n",
    "#Mean square error of the model\n",
    "pred = autoencoder.predict(X_test)\n",
    "print(mean_absolute_error(X_test,pred))"
   ]
  }
 ],
 "metadata": {
  "kernelspec": {
   "display_name": "Python 3 (ipykernel)",
   "language": "python",
   "name": "python3"
  },
  "language_info": {
   "codemirror_mode": {
    "name": "ipython",
    "version": 3
   },
   "file_extension": ".py",
   "mimetype": "text/x-python",
   "name": "python",
   "nbconvert_exporter": "python",
   "pygments_lexer": "ipython3",
   "version": "3.11.0"
  }
 },
 "nbformat": 4,
 "nbformat_minor": 5
}
